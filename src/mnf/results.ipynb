{
 "cells": [
  {
   "cell_type": "code",
   "execution_count": 98,
   "metadata": {},
   "outputs": [],
   "source": [
    "import tensorflow as tf\n",
    "import numpy as np\n",
    "import pickle\n",
    "import matplotlib\n",
    "import matplotlib.pyplot as plt"
   ]
  },
  {
   "cell_type": "markdown",
   "metadata": {},
   "source": [
    "## Helper functions"
   ]
  },
  {
   "cell_type": "code",
   "execution_count": 99,
   "metadata": {},
   "outputs": [],
   "source": [
    "def save_variable_to_file(name, filename):\n",
    "    named_variable = [v for v in tf.trainable_variables() if v.name == name][0]    \n",
    "    named_variable_np_array = named_variable.eval()\n",
    "    \n",
    "    with open(filename, \"w\") as outfile:\n",
    "        np.save(outfile, named_variable_np_array)\n",
    "    print('Variable: {} saved to file'.format(name))\n"
   ]
  },
  {
   "cell_type": "code",
   "execution_count": 136,
   "metadata": {
    "scrolled": false
   },
   "outputs": [
    {
     "name": "stdout",
     "output_type": "stream",
     "text": [
      "INFO:tensorflow:Restoring parameters from ../../models/mnf/mnf_log-uniform_FIXED_MNIST/mnf\n"
     ]
    }
   ],
   "source": [
    "model = 'log-uniform_FIXED_MNIST'\n",
    "model_path = '../../models/mnf/mnf_{}/'.format(model)\n",
    "\n",
    "with tf.Session() as sess:\n",
    "    saver = tf.train.import_meta_graph('{}mnf.meta'.format(model_path))\n",
    "    saver.restore(sess, tf.train.latest_checkpoint(model_path))\n",
    "\n",
    "#     for v in tf.global_variables():\n",
    "#         print(v)\n",
    "\n",
    "#     save_variable_to_file(\"fq2_fr2_usezTrue/densemnf_1/mean_W:0\", \"../../models/mnf/weights/mean_layer1_{}.npz\".format(model))\n",
    "#     save_variable_to_file(\"fq2_fr2_usezTrue/densemnf_1/var_W:0\", \"../../models/mnf/weights/var_layer1_{}.npz\".format(model))\n",
    "\n",
    "#     save_variable_to_file(\"fq2_fr2_usezTrue/densemnf_2/mean_W:0\", \"../../models/mnf/weights/mean_layer2_{}.npz\".format(model))\n",
    "#     save_variable_to_file(\"fq2_fr2_usezTrue/densemnf_2/var_W:0\", \"../../models/mnf/weights/var_layer2_{}.npz\".format(model))"
   ]
  },
  {
   "cell_type": "code",
   "execution_count": 121,
   "metadata": {},
   "outputs": [],
   "source": [
    "def plot_function(weights, subset=True, savefile=None):\n",
    "    '''\n",
    "    Plot heatmaps\n",
    "    '''\n",
    "    if subset:\n",
    "        weights = weights[:50, :50]    \n",
    "    plt.clf()\n",
    "    plt.imshow(weights)\n",
    "    plt.colorbar()\n",
    "    \n",
    "    if savefile is not None:\n",
    "        plt.savefig(savefile)\n",
    "\n",
    "def plot_function_2(weights, savefile=None):\n",
    "    masked_array = np.ma.masked_where(weights == 0.0, weights)\n",
    "\n",
    "    cmap = matplotlib.cm.spring  # Can be any colormap that you want after the cm\n",
    "    cmap.set_bad(color='black')\n",
    "\n",
    "    plt.clf()\n",
    "    plt.imshow(masked_array, cmap=cmap)\n",
    "#     plt.colorbar(im)\n",
    "#     plt.show()\n",
    "\n",
    "    if savefile is not None:\n",
    "        plt.savefig(savefile)\n",
    "    plt.show()"
   ]
  },
  {
   "cell_type": "markdown",
   "metadata": {},
   "source": [
    "## Results on the MNIST data"
   ]
  },
  {
   "cell_type": "code",
   "execution_count": null,
   "metadata": {},
   "outputs": [],
   "source": [
    "weights = np.load(\"../../models/mnf/weights/layer1_std-normal.npz\")\n",
    "plot_function(weights)"
   ]
  },
  {
   "cell_type": "code",
   "execution_count": null,
   "metadata": {},
   "outputs": [],
   "source": [
    "weights = np.load(\"../../models/mnf/weights/layer1_cauchy_10-epochs.npz\")\n",
    "plot_function(weights)"
   ]
  },
  {
   "cell_type": "code",
   "execution_count": 122,
   "metadata": {
    "scrolled": false
   },
   "outputs": [
    {
     "data": {
      "image/png": "[encoded data removed]",
      "text/plain": [
       "<Figure size 432x288 with 1 Axes>"
      ]
     },
     "metadata": {},
     "output_type": "display_data"
    },
    {
     "data": {
      "image/png": "[encoded data removed]",
      "text/plain": [
       "<Figure size 432x288 with 1 Axes>"
      ]
     },
     "metadata": {},
     "output_type": "display_data"
    },
    {
     "name": "stdout",
     "output_type": "stream",
     "text": [
      "Number of zeros: 2352/5000\n"
     ]
    },
    {
     "data": {
      "image/png": "[encoded data removed]",
      "text/plain": [
       "<Figure size 432x288 with 2 Axes>"
      ]
     },
     "metadata": {},
     "output_type": "display_data"
    }
   ],
   "source": [
    "cutoff_threshold = 1\n",
    "\n",
    "# ************************************* Layer 1 *************************************\n",
    "\n",
    "# >>>>> Mean Weights\n",
    "mean_weights_1 = np.load(\"../../models/mnf/weights/mean_layer1_{}.npz\".format(model))\n",
    "mean_weights_1[(mean_weights_1 >= -cutoff_threshold) & (mean_weights_1 <= cutoff_threshold)] = 0.0\n",
    "\n",
    "mean_weights_1_1 = mean_weights_1[:50, :50]\n",
    "mean_weights_1_2 = mean_weights_1[220:270, :50]\n",
    "mean_weights_1_3 = mean_weights_1[350:400, :50]\n",
    "plot_function_2(mean_weights_1_1, savefile='../../results/log-uniform_dense1_thres-1.png')\n",
    "\n",
    "# plot_function(mean_weights_1, subset = False)\n",
    "\n",
    "# >>>>> Var Weights\n",
    "# var_weights_1 = np.load(\"../../models/mnf/weights/var_layer1_{}.npz\".format(model))\n",
    "# plot_function(var_weights_1)\n",
    "\n",
    "# ************************************* Layer 2 *************************************\n",
    "\n",
    "# >>>>> Mean Weights\n",
    "\n",
    "cutoff_threshold = .1\n",
    "\n",
    "mean_weights_2 = np.load(\"../../models/mnf/weights/mean_layer2_{}.npz\".format(model))\n",
    "mean_weights_2[(mean_weights_2 >= -cutoff_threshold) & (mean_weights_2 <= cutoff_threshold)] = 0.0\n",
    "\n",
    "mean_weights_2_1 = mean_weights_2[:50, :]\n",
    "mean_weights_2_2 = mean_weights_2[220:270, :]\n",
    "mean_weights_2_3 = mean_weights_2[350:400, :]\n",
    "plot_function_2(mean_weights_2_1, savefile='../../results/log-uniform_dense2_thres-0.1.png')\n",
    "\n",
    "x_axis_range = 500\n",
    "y_axis_range = 10\n",
    "count = 0\n",
    "for i in range(x_axis_range):\n",
    "    for j in range(y_axis_range):\n",
    "        if mean_weights_2[i, j] >= -.1 and mean_weights_2[i, j] <= .1:\n",
    "            count += 1\n",
    "\n",
    "print('Number of zeros: {}/{}'.format(count, x_axis_range * y_axis_range))\n",
    "\n",
    "# >>>>> Var Weights\n",
    "var_weights_2 = np.load(\"../../models/mnf/weights/var_layer2_{}.npz\".format(model))\n",
    "\n",
    "var_weights_2_1 = var_weights_2[:50, :]\n",
    "var_weights_2_2 = var_weights_2[220:270, :]\n",
    "var_weights_2_3 = var_weights_2[350:400, :]\n",
    "plot_function(var_weights_2_1, subset=False)"
   ]
  },
  {
   "cell_type": "code",
   "execution_count": 135,
   "metadata": {},
   "outputs": [
    {
     "data": {
      "image/png": "[encoded data removed]",
      "text/plain": [
       "<Figure size 432x288 with 1 Axes>"
      ]
     },
     "metadata": {},
     "output_type": "display_data"
    },
    {
     "data": {
      "image/png": "[encoded data removed]",
      "text/plain": [
       "<Figure size 432x288 with 1 Axes>"
      ]
     },
     "metadata": {},
     "output_type": "display_data"
    }
   ],
   "source": [
    "# Entropies and lowerbounds\n",
    "\n",
    "# std normal\n",
    "with open('../../models/mnf/mnist_std_normal', 'rb') as f:\n",
    "    dictionary_sn = pickle.load(f)\n",
    "\n",
    "# log uniform\n",
    "with open('../../models/mnf/mnist_log_uniform', 'rb') as f:\n",
    "    dictionary_lu = pickle.load(f)\n",
    "\n",
    "# std cauchy\n",
    "with open('../../models/mnf/mnist_standard_cauchy', 'rb') as f:\n",
    "    dictionary_sc = pickle.load(f)\n",
    "\n",
    "\n",
    "ax_a = plt.plot(dictionary_sn['entropies'][:20], c='red', label='std normal')\n",
    "ax_b = plt.plot(dictionary_lu['entropies'], c='green', label='log uniform')\n",
    "ax_c = plt.plot(dictionary_sc['entropies'], c='blue', label='std cauchy')\n",
    "plt.legend()\n",
    "plt.xlabel('epochs')\n",
    "plt.ylabel('Cross Entropy')\n",
    "\n",
    "plt.figure()\n",
    "ax_a = plt.plot(dictionary_sn['lowerbounds'][:20], c='red', label='std normal')\n",
    "ax_c = plt.plot(dictionary_sc['lowerbounds'], c='blue', label='std cauchy')\n",
    "plt.legend()\n",
    "plt.xlabel('epochs')\n",
    "plt.ylabel('Lowerbound')\n",
    "plt.savefig('../../results/lowerbound_normal_cauchy.png')"
   ]
  },
  {
   "cell_type": "code",
   "execution_count": null,
   "metadata": {},
   "outputs": [],
   "source": [
    "weights = np.load(\"../../models/mnf/weights/layer1_log-uniform_clipped-alpha.npz\")\n",
    "plot_function(weights)"
   ]
  },
  {
   "cell_type": "code",
   "execution_count": null,
   "metadata": {},
   "outputs": [],
   "source": [
    "weights = np.load(\"../../models/mnf/weights/layer1_log-uniform_recent.npz\")\n",
    "weights = weights[:50, :50]\n",
    "weights[(weights >= -1) & (weights <= 1)] = 0.0\n",
    "plot_function_2(weights)"
   ]
  },
  {
   "cell_type": "code",
   "execution_count": null,
   "metadata": {},
   "outputs": [],
   "source": [
    "mean_weights = np.load(\"../../models/mnf/weights/mean_layer1_log-uniform_clipped-alpha.npz\")\n",
    "var_weights = np.load(\"../../models/mnf/weights/var_layer1_log-uniform_clipped-alpha.npz\")\n",
    "\n",
    "# mean_weights = mean_weights[:50, :50]\n",
    "# var_weights = var_weights[:50, :50]\n",
    "\n",
    "mean_weights[(mean_weights >= -1) & (mean_weights <= 1)] = 0.0\n",
    "\n",
    "# print(mean_weights)\n",
    "\n",
    "count = 0\n",
    "for i in range(800):\n",
    "    for j in range(500):\n",
    "#         if var_weights[i, j] < -14:\n",
    "        if mean_weights[i, j] == var_weights[i, j]:\n",
    "            count += 1\n",
    "            mean_weights[i, j] = 0.0\n",
    "\n",
    "print(count)\n",
    "# plot_function_2(mean_weights)\n",
    "plot_function_2(mean_weights)"
   ]
  },
  {
   "cell_type": "code",
   "execution_count": 137,
   "metadata": {},
   "outputs": [],
   "source": [
    "from mnist import MNIST\n",
    "from keras.utils.np_utils import to_categorical\n",
    "\n",
    "mnist = MNIST()\n",
    "(xtrain, ytrain), (xvalid, yvalid), (xtest, ytest) = mnist.images()\n",
    "xtrain, xvalid, xtest = np.transpose(xtrain, [0, 2, 3, 1]), np.transpose(xvalid, [0, 2, 3, 1]), np.transpose(xtest, [0, 2, 3, 1])\n",
    "ytrain, yvalid, ytest = to_categorical(ytrain, 10), to_categorical(yvalid, 10), to_categorical(ytest, 10)"
   ]
  },
  {
   "cell_type": "code",
   "execution_count": 144,
   "metadata": {
    "scrolled": false
   },
   "outputs": [
    {
     "name": "stdout",
     "output_type": "stream",
     "text": [
      "INFO:tensorflow:Restoring parameters from ../../models/mnf/TEST/mnf\n"
     ]
    }
   ],
   "source": [
    "from wrappers import MNFLeNet\n",
    "\n",
    "\n",
    "weights = np.load(\"../../models/mnf/weights/mean_layer2_log-uniform_FIXED_MNIST.npz\")\n",
    "weights[(weights >= -.1) & (weights <= .1)] = 0.0\n",
    "\n",
    "\n",
    "# N, height, width, n_channels = xtrain.shape\n",
    "# iter_per_epoch = N / 100\n",
    "# input_shape = [None, height, width, n_channels]\n",
    "# model = MNFLeNet(N, input_shape=input_shape, flows_q=2, flows_r=2, use_z=False,\n",
    "#                  learn_p=True, thres_var=0.5, flow_dim_h=50)\n",
    "\n",
    "# x = tf.placeholder(tf.float32, input_shape, name='x')\n",
    "# y_ = tf.placeholder(tf.float32, [None, 10], name='y_')\n",
    "# y = model.predict(x)\n",
    "# yd = model.predict(x, sample=False)\n",
    "# pyx = tf.nn.softmax(y)\n",
    "\n",
    "with tf.Session() as sess:\n",
    "    saver = tf.train.import_meta_graph('../../models/mnf/TEST/mnf.meta')\n",
    "    saver.restore(sess, tf.train.latest_checkpoint('../../models/mnf/TEST/'))\n",
    "\n",
    "    w = [v for v in tf.trainable_variables() if v.name == \"fq2_fr2_usezTrue/densemnf_2/mean_W:0\"][0]\n",
    "    w_new = w.assign(tf.convert_to_tensor(weights))\n",
    "    sess.run(w_new)\n",
    "\n",
    "#     for v in tf.global_variables():\n",
    "#         print(v)\n",
    "    \n",
    "#     preds = np.zeros_like(ytest)\n",
    "#     for i in xrange(10):\n",
    "#         for j in xrange(xtest.shape[0] / 100):\n",
    "#             pyxi = sess.run(pyx, feed_dict={x: xtest[j * 100:(j + 1) * 100]})\n",
    "#             preds[j * 100:(j + 1) * 100] += pyxi / 10\n",
    "#     print\n",
    "#     sample_accuracy = np.mean(np.equal(np.argmax(preds, 1), np.argmax(ytest, 1)))\n",
    "#     print '  - Sample test accuracy: {}'.format(sample_accuracy)"
   ]
  },
  {
   "cell_type": "markdown",
   "metadata": {},
   "source": [
    "## Results on the CIFAR-10 data"
   ]
  },
  {
   "cell_type": "code",
   "execution_count": 3,
   "metadata": {},
   "outputs": [
    {
     "name": "stdout",
     "output_type": "stream",
     "text": [
      "(40000, 32, 32, 3)\n"
     ]
    }
   ],
   "source": [
    "from cifar10 import CIFAR10\n",
    "from keras.utils.np_utils import to_categorical\n",
    "\n",
    "cifar10 = CIFAR10()\n",
    "(xtrain, ytrain), (xvalid, yvalid), (xtest, ytest) = cifar10.images()\n",
    "xtrain, xvalid, xtest = np.transpose(xtrain, [0, 2, 3, 1]), np.transpose(xvalid, [0, 2, 3, 1]), np.transpose(xtest, [0, 2, 3, 1])\n",
    "ytrain, yvalid, ytest = to_categorical(ytrain, 10), to_categorical(yvalid, 10), to_categorical(ytest, 10)\n",
    "\n",
    "print xtrain.shape"
   ]
  },
  {
   "cell_type": "code",
   "execution_count": 7,
   "metadata": {},
   "outputs": [],
   "source": [
    "# weights = np.load(\"../../models/mnf/weights/layer1_log-uniform_10-epochs_cifar10.npz\")\n",
    "import cPickle as pickle\n",
    "with open('../../data/cifar10/data_batch_1', 'rb') as f:\n",
    "    cifar = pickle.load(f)"
   ]
  },
  {
   "cell_type": "code",
   "execution_count": 15,
   "metadata": {},
   "outputs": [
    {
     "name": "stdout",
     "output_type": "stream",
     "text": [
      "(10000, 3072)\n",
      "(32, 32, 3)\n"
     ]
    },
    {
     "data": {
      "text/plain": [
       "<matplotlib.image.AxesImage at 0x7f06f8cac290>"
      ]
     },
     "execution_count": 15,
     "metadata": {},
     "output_type": "execute_result"
    },
    {
     "data": {
      "image/png": "[encoded data removed]",
      "text/plain": [
       "<Figure size 432x288 with 1 Axes>"
      ]
     },
     "metadata": {},
     "output_type": "display_data"
    }
   ],
   "source": [
    "\n",
    "data = cifar['data']\n",
    "print data.shape\n",
    "\n",
    "n = np.reshape(data, (data.shape[0], 3, 32, 32))\n",
    "\n",
    "xtrain = np.transpose(n, [0, 2, 3, 1])\n",
    "\n",
    "print xtrain[1].shape\n",
    "\n",
    "plt.imshow(xtrain[1])\n",
    "\n",
    "\n",
    "# single_image = np.array(data[1])\n",
    "# single_image_reshaped = np.transpose(np.reshape(single_image,(3, 32, 32)), (1, 2, 0))\n",
    "# # print(single_image)\n",
    "# # plt.imshow(single_image_reshaped)\n",
    "# print single_image_reshaped.shape"
   ]
  },
  {
   "cell_type": "code",
   "execution_count": null,
   "metadata": {},
   "outputs": [],
   "source": [
    "from mnist import MNIST\n",
    "from keras.utils.np_utils import to_categorical\n",
    "\n",
    "mnist = MNIST()\n",
    "(xtrain, ytrain), (xvalid, yvalid), (xtest, ytest) = mnist.images()\n",
    "print xtrain.shape\n",
    "xtrain, xvalid, xtest = np.transpose(xtrain, [0, 2, 3, 1]), np.transpose(xvalid, [0, 2, 3, 1]), np.transpose(xtest, [0, 2, 3, 1])\n",
    "ytrain, yvalid, ytest = to_categorical(ytrain, 10), to_categorical(yvalid, 10), to_categorical(ytest, 10)\n",
    "\n",
    "print xtrain.shape\n",
    "print ytrain.shape"
   ]
  },
  {
   "cell_type": "code",
   "execution_count": null,
   "metadata": {},
   "outputs": [],
   "source": []
  }
 ],
 "metadata": {
  "kernelspec": {
   "display_name": "Python 2",
   "language": "python",
   "name": "python2"
  },
  "language_info": {
   "codemirror_mode": {
    "name": "ipython",
    "version": 2
   },
   "file_extension": ".py",
   "mimetype": "text/x-python",
   "name": "python",
   "nbconvert_exporter": "python",
   "pygments_lexer": "ipython2",
   "version": "2.7.15"
  }
 },
 "nbformat": 4,
 "nbformat_minor": 2
}
